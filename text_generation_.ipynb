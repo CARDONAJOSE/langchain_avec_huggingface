{
  "nbformat": 4,
  "nbformat_minor": 0,
  "metadata": {
    "colab": {
      "provenance": [],
      "gpuType": "T4",
      "authorship_tag": "ABX9TyPOShGJHR85qSHBrUBYH3OD",
      "include_colab_link": true
    },
    "kernelspec": {
      "name": "python3",
      "display_name": "Python 3"
    },
    "language_info": {
      "name": "python"
    },
    "accelerator": "GPU"
  },
  "cells": [
    {
      "cell_type": "markdown",
      "metadata": {
        "id": "view-in-github",
        "colab_type": "text"
      },
      "source": [
        "<a href=\"https://colab.research.google.com/github/CARDONAJOSE/langchain_avec_huggingface/blob/main/text_generation_.ipynb\" target=\"_parent\"><img src=\"https://colab.research.google.com/assets/colab-badge.svg\" alt=\"Open In Colab\"/></a>"
      ]
    },
    {
      "cell_type": "markdown",
      "source": [
        "**## Integration de Huggin face en langchain**"
      ],
      "metadata": {
        "id": "uJoGAkpCAFzP"
      }
    },
    {
      "cell_type": "markdown",
      "source": [
        "Installation des librairies"
      ],
      "metadata": {
        "id": "-YMijiIVAhLh"
      }
    },
    {
      "cell_type": "code",
      "execution_count": 4,
      "metadata": {
        "id": "O-SoIy1X_BEP"
      },
      "outputs": [],
      "source": [
        "%%capture\n",
        "!pip install langchain"
      ]
    },
    {
      "cell_type": "code",
      "source": [
        "%%capture\n",
        "\n",
        "!pip install -q transformers einops accelerate"
      ],
      "metadata": {
        "id": "OtpHWcYyRLXQ"
      },
      "execution_count": 5,
      "outputs": []
    },
    {
      "cell_type": "code",
      "source": [
        "%%capture\n",
        "\n",
        "!%pip install --upgrade --quiet transformers"
      ],
      "metadata": {
        "id": "Jd8pTrNYRMzv"
      },
      "execution_count": 6,
      "outputs": []
    },
    {
      "cell_type": "code",
      "source": [
        "%%capture\n",
        "\n",
        "!pip install -U langchain-huggingface"
      ],
      "metadata": {
        "id": "ojLSOkQoSWhp"
      },
      "execution_count": 7,
      "outputs": []
    },
    {
      "cell_type": "markdown",
      "source": [],
      "metadata": {
        "id": "Wm7dJ0uXADYF"
      }
    },
    {
      "cell_type": "markdown",
      "source": [
        "Instancie le modele"
      ],
      "metadata": {
        "id": "88A-th1IMAMQ"
      }
    },
    {
      "cell_type": "code",
      "source": [
        "from transformers import AutoTokenizer, AutoModelForCausalLM\n",
        "import transformers\n",
        "import torch\n",
        "\n",
        "# change avec une autre modele\n",
        "model = \"tiiuae/falcon-7b-instruct\"\n",
        "\n",
        "tokenizer = AutoTokenizer.from_pretrained(model)\n",
        "pipeline = transformers.pipeline(\n",
        "    \"text-generation\",\n",
        "    model=model,\n",
        "    tokenizer=tokenizer,\n",
        "    torch_dtype=torch.bfloat16,\n",
        "    trust_remote_code=True,\n",
        "    device_map=\"auto\"\n",
        ")\n"
      ],
      "metadata": {
        "id": "NZKo5DI6Kylp"
      },
      "execution_count": null,
      "outputs": []
    },
    {
      "cell_type": "markdown",
      "source": [
        "Le parametrage du modele c'est fait de maniere que la consommation de computing soit faible a des fins pedagogique"
      ],
      "metadata": {
        "id": "6K2Y5Q4kMwAw"
      }
    },
    {
      "cell_type": "code",
      "source": [
        "type(pipeline)"
      ],
      "metadata": {
        "id": "4Nz95XbzPmh3"
      },
      "execution_count": null,
      "outputs": []
    },
    {
      "cell_type": "code",
      "source": [
        "from langchain_huggingface.llms import HuggingFacePipeline\n",
        "\n",
        "llm_falcon = HuggingFacePipeline(\n",
        "    pipeline = pipeline,\n",
        "    model_kwargs = {\n",
        "        'temperature': 0,\n",
        "        'max_length': 200, ## attention sorti 200 token max\n",
        "        'do_sample': True,\n",
        "        'top_k': 10,\n",
        "        'num_return_sequences':1,\n",
        "        'eos_token_id': tokenizer.eos_token_id\n",
        "    }\n",
        ")"
      ],
      "metadata": {
        "id": "enP7ZDHbL6jG"
      },
      "execution_count": 10,
      "outputs": []
    },
    {
      "cell_type": "code",
      "source": [
        "llm_falcon(\"what is IA\")"
      ],
      "metadata": {
        "colab": {
          "base_uri": "https://localhost:8080/",
          "height": 52
        },
        "id": "RG8IiTTWZ1U5",
        "outputId": "d5fedc77-5f6d-4317-9a66-e46d1e247fc5"
      },
      "execution_count": 12,
      "outputs": [
        {
          "output_type": "stream",
          "name": "stderr",
          "text": [
            "Setting `pad_token_id` to `eos_token_id`:11 for open-end generation.\n"
          ]
        },
        {
          "output_type": "execute_result",
          "data": {
            "text/plain": [
              "'what is IA language model\\nAn IA language model is a type of natural language processing (NLP) model'"
            ],
            "application/vnd.google.colaboratory.intrinsic+json": {
              "type": "string"
            }
          },
          "metadata": {},
          "execution_count": 12
        }
      ]
    }
  ]
}