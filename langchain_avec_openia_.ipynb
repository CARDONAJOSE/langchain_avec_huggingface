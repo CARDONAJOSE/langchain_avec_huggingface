{
  "nbformat": 4,
  "nbformat_minor": 0,
  "metadata": {
    "colab": {
      "provenance": [],
      "authorship_tag": "ABX9TyPkmvBIGtPJKMli+e0b9+Bi",
      "include_colab_link": true
    },
    "kernelspec": {
      "name": "python3",
      "display_name": "Python 3"
    },
    "language_info": {
      "name": "python"
    }
  },
  "cells": [
    {
      "cell_type": "markdown",
      "metadata": {
        "id": "view-in-github",
        "colab_type": "text"
      },
      "source": [
        "<a href=\"https://colab.research.google.com/github/CARDONAJOSE/langchain_avec_huggingface/blob/main/langchain_avec_openia_.ipynb\" target=\"_parent\"><img src=\"https://colab.research.google.com/assets/colab-badge.svg\" alt=\"Open In Colab\"/></a>"
      ]
    },
    {
      "cell_type": "markdown",
      "source": [
        "# **LangChain avec OpenIA**"
      ],
      "metadata": {
        "id": "HSfp-q0RBe20"
      }
    },
    {
      "cell_type": "markdown",
      "source": [
        "Importation des librairies\n",
        "rapelle\n",
        "%%capture recupere la sortie et la suprime"
      ],
      "metadata": {
        "id": "FrgRaJRwBryL"
      }
    },
    {
      "cell_type": "code",
      "execution_count": 2,
      "metadata": {
        "id": "yp_ormOxBUuo"
      },
      "outputs": [],
      "source": [
        "%%capture\n",
        "!pip install langchain-openai"
      ]
    },
    {
      "cell_type": "code",
      "source": [
        "%%capture\n",
        "!pip install -qU \"langchain[openai]\""
      ],
      "metadata": {
        "id": "rlspqFQIwE_W"
      },
      "execution_count": 6,
      "outputs": []
    },
    {
      "cell_type": "code",
      "source": [
        "%%capture\n",
        "!pip install langchain-community"
      ],
      "metadata": {
        "id": "XkOELhx74K8d"
      },
      "execution_count": 16,
      "outputs": []
    },
    {
      "cell_type": "code",
      "source": [
        "from getpass import getpass\n",
        "from langchain_openai.embeddings import OpenAIEmbeddings\n",
        "import os\n",
        "\n",
        "OPENAI_API_KEY = getpass('Enter the secret value: ')\n",
        "os.environ['OPENAI_API_KEY'] = OPENAI_API_KEY"
      ],
      "metadata": {
        "id": "7k0_Vs6BZNRJ"
      },
      "execution_count": null,
      "outputs": []
    },
    {
      "cell_type": "code",
      "source": [
        "from langchain.chat_models import init_chat_model\n",
        "from langchain_core.messages import HumanMessage, SystemMessage\n",
        "from langchain_openai import ChatOpenAI\n",
        "\n",
        "\n",
        "# Pass the model name as a keyword argument\n",
        "model = ChatOpenAI(model_name=\"gpt-4o-mini\")\n",
        "\n",
        "# The rest of your code remains the same\n",
        "\n",
        "prompt=\"what is llm\"\n",
        "\n",
        "# Invoca el modelo con el prompt\n",
        "response = model.invoke(prompt)\n",
        "\n",
        "# Imprime el contenido de la respuesta\n",
        "print(response.content)"
      ],
      "metadata": {
        "id": "vJ7iUUYmL5RJ"
      },
      "execution_count": null,
      "outputs": []
    }
  ]
}