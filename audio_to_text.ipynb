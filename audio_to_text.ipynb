{
  "nbformat": 4,
  "nbformat_minor": 0,
  "metadata": {
    "colab": {
      "provenance": [],
      "authorship_tag": "ABX9TyPcfifHOtQ/puK4nps600OW",
      "include_colab_link": true
    },
    "kernelspec": {
      "name": "python3",
      "display_name": "Python 3"
    },
    "language_info": {
      "name": "python"
    }
  },
  "cells": [
    {
      "cell_type": "markdown",
      "metadata": {
        "id": "view-in-github",
        "colab_type": "text"
      },
      "source": [
        "<a href=\"https://colab.research.google.com/github/CARDONAJOSE/langchain_avec_huggingface/blob/main/audio_to_text.ipynb\" target=\"_parent\"><img src=\"https://colab.research.google.com/assets/colab-badge.svg\" alt=\"Open In Colab\"/></a>"
      ]
    },
    {
      "cell_type": "code",
      "execution_count": null,
      "metadata": {
        "id": "dRBQa3Pqd_da"
      },
      "outputs": [],
      "source": [
        "# Importation des librairies\n",
        "import os\n",
        "from openai import OpenAI\n",
        "import requests\n",
        "import json"
      ]
    },
    {
      "cell_type": "code",
      "source": [
        "\n",
        "# Crée une instance du client OpenAI en utilisant la clé stockée dans les variables d'environnement\n",
        "client = OpenAI(api_key=os.getenv(\"OPENAI_API_KEY\"))\n",
        "\n",
        "# Ouvre le fichier audio \"speech.mp3\" en mode binaire pour la lecture ('rb')\n",
        "audio_file = open(\"speech.mp3\", \"rb\")\n",
        "\n",
        "# Envoie le fichier audio au modèle de transcription OpenAI (Whisper)\n",
        "transcript = client.audio.transcriptions.create(\n",
        "    model=\"whisper-1\",  # Modele de transcription\n",
        "    file=audio_file     # variable de fichier audio\n",
        ")\n",
        "\n",
        "# Imprime le texte transcrit du fichier audio à l'écran\n",
        "print(\"Transcripción\")\n",
        "print(transcript.text)"
      ],
      "metadata": {
        "id": "gQUlw6aJet7o"
      },
      "execution_count": null,
      "outputs": []
    }
  ]
}